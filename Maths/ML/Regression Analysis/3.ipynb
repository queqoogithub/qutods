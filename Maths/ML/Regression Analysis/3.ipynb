{
 "cells": [
  {
   "cell_type": "markdown",
   "metadata": {},
   "source": [
    "# วิเคราะห์การถดถอยพหุนาม\n"
   ]
  },
  {
   "cell_type": "markdown",
   "metadata": {},
   "source": [
    "หากต้องการปัญหาที่ผลเฉลยไม่น่าจะเป็นเชิงเส้น ก็ต้องปรับวิธีใหม่ซึ่งซับซ้อนขึ้น รูปแบบคำตอบที่ง่ายรองลงมาจากเชิงเส้นธรรมดาก็คืออยู่ในรูปพหุนาม นั่นคือเป็นลักษณะแบบนี้ \n",
    "<p>z = w0 + w1*x + w2*x**2 + w3*x**3 + ... </p>\n",
    "\n",
    "<p>คล้ายกับสมการเชิงเส้นหลายมิติ เพียงแต่ว่าเปลี่ยนจาก x1 เป็น x**1 ส่วน x2 เป็น x**2 และ xn เป็น x**n </p>\n"
   ]
  },
  {
   "cell_type": "code",
   "execution_count": 1,
   "metadata": {},
   "outputs": [
    {
     "data": {
      "image/png": "[encoded data removed]",
      "text/plain": [
       "<Figure size 432x288 with 1 Axes>"
      ]
     },
     "metadata": {
      "needs_background": "light"
     },
     "output_type": "display_data"
    }
   ],
   "source": [
    "import numpy as np\n",
    "import matplotlib.pyplot as plt\n",
    "x = np.linspace(0,1,101)\n",
    "z = 1+3*x-7*x**2+5*x**3+0.1*np.random.randn(101)\n",
    "plt.scatter(x,z)\n",
    "plt.show()"
   ]
  },
  {
   "cell_type": "markdown",
   "metadata": {},
   "source": [
    "จากตรงนี้จะเห็นว่าคำตอบที่ควรจะเป็นก็คือ w0=5, w1=21, w2=31 และ w3=1\n",
    "\n",
    "เดิมทีเรามีแค่ x ตัวเดียว แต่ว่าต้องสร้างค่า x ที่ยกกำลังต่างๆตั้งแต่ 0 ไปจนถึงดีกรีที่ต้องการ\n",
    "\n",
    "โดยใช้วิธีการดังนี้"
   ]
  },
  {
   "cell_type": "code",
   "execution_count": 2,
   "metadata": {},
   "outputs": [
    {
     "name": "stdout",
     "output_type": "stream",
     "text": [
      "[[1.    0.    0.    0.   ]\n",
      " [1.    0.2   0.04  0.008]\n",
      " [1.    0.4   0.16  0.064]\n",
      " [1.    0.6   0.36  0.216]\n",
      " [1.    0.8   0.64  0.512]\n",
      " [1.    1.    1.    1.   ]]\n"
     ]
    }
   ],
   "source": [
    "deg = 3 # ดีกรีที่ต้องการ\n",
    "X = np.stack([x**i for i in range(deg+1)],1)\n",
    "print(X[::20])"
   ]
  },
  {
   "cell_type": "code",
   "execution_count": 5,
   "metadata": {},
   "outputs": [
    {
     "data": {
      "text/plain": [
       "array([0.  , 0.01, 0.02, 0.03, 0.04, 0.05, 0.06, 0.07, 0.08, 0.09, 0.1 ,\n",
       "       0.11, 0.12, 0.13, 0.14, 0.15, 0.16, 0.17, 0.18, 0.19, 0.2 , 0.21,\n",
       "       0.22, 0.23, 0.24, 0.25, 0.26, 0.27, 0.28, 0.29, 0.3 , 0.31, 0.32,\n",
       "       0.33, 0.34, 0.35, 0.36, 0.37, 0.38, 0.39, 0.4 , 0.41, 0.42, 0.43,\n",
       "       0.44, 0.45, 0.46, 0.47, 0.48, 0.49, 0.5 , 0.51, 0.52, 0.53, 0.54,\n",
       "       0.55, 0.56, 0.57, 0.58, 0.59, 0.6 , 0.61, 0.62, 0.63, 0.64, 0.65,\n",
       "       0.66, 0.67, 0.68, 0.69, 0.7 , 0.71, 0.72, 0.73, 0.74, 0.75, 0.76,\n",
       "       0.77, 0.78, 0.79, 0.8 , 0.81, 0.82, 0.83, 0.84, 0.85, 0.86, 0.87,\n",
       "       0.88, 0.89, 0.9 , 0.91, 0.92, 0.93, 0.94, 0.95, 0.96, 0.97, 0.98,\n",
       "       0.99, 1.  ])"
      ]
     },
     "execution_count": 5,
     "metadata": {},
     "output_type": "execute_result"
    }
   ],
   "source": [
    "x"
   ]
  },
  {
   "cell_type": "markdown",
   "metadata": {},
   "source": [
    "หลักแรกคือ x0 ซึ่งจะนำไปคูณกับ w0 (w0 = b) \n",
    "\n",
    "เขียนคลาสสำหรับการวิเคราะห์การถดถอยพหุนามแบบตัวแปรเดียวได้ดังนี้"
   ]
  },
  {
   "cell_type": "code",
   "execution_count": 6,
   "metadata": {},
   "outputs": [],
   "source": [
    "class ThotthoiPhahunam1D:\n",
    "    def __init__(self,eta,deg=2):\n",
    "        self.eta = eta\n",
    "        self.deg = deg\n",
    "\n",
    "    def rianru(self,x,z,d_yut=1e-7,n_thamsam=100000):\n",
    "        X = np.stack([x**i for i in range(self.deg+1)],1) # ทำให้เป็นพหุนาม\n",
    "        self.w = np.zeros(X.shape[1])\n",
    "        dw = np.zeros(X.shape[1])\n",
    "        h = np.dot(X,self.w)\n",
    "        self.sse = [self.ha_sse(h,z)]\n",
    "        for i in range(n_thamsam):\n",
    "            eee = 2*(z-h)*self.eta\n",
    "            dw = np.dot(eee,X)\n",
    "            self.w += dw\n",
    "            h = np.dot(X,self.w)\n",
    "            self.sse += [self.ha_sse(h,z)]\n",
    "            if(np.all(np.abs(dw)<d_yut)):\n",
    "                break\n",
    "\n",
    "    def thamnai(self,x):\n",
    "        X = np.stack([x**i for i in range(self.deg+1)],1)\n",
    "        return np.dot(X,self.w)\n",
    "\n",
    "    def ha_sse(self,h,z):\n",
    "        return ((h-z)**2).sum()"
   ]
  },
  {
   "cell_type": "code",
   "execution_count": 27,
   "metadata": {},
   "outputs": [],
   "source": [
    "eta = 0.005\n",
    "deg = 3\n",
    "tp = ThotthoiPhahunam1D(eta,deg)\n",
    "tp.rianru(x,z)"
   ]
  },
  {
   "cell_type": "code",
   "execution_count": 28,
   "metadata": {},
   "outputs": [
    {
     "data": {
      "text/plain": [
       "array([0., 0., 0., 0.])"
      ]
     },
     "execution_count": 28,
     "metadata": {},
     "output_type": "execute_result"
    }
   ],
   "source": [
    "np.zeros(X.shape[1]) # 0 -> shape row, 1 -> shape col "
   ]
  },
  {
   "cell_type": "code",
   "execution_count": 29,
   "metadata": {},
   "outputs": [
    {
     "name": "stdout",
     "output_type": "stream",
     "text": [
      "[ 0.97589543  3.17301837 -7.3485325   5.17868784]\n"
     ]
    }
   ],
   "source": [
    "print(tp.w)"
   ]
  },
  {
   "cell_type": "code",
   "execution_count": 31,
   "metadata": {},
   "outputs": [
    {
     "data": {
      "image/png": "[encoded data removed]",
      "text/plain": [
       "<Figure size 432x288 with 1 Axes>"
      ]
     },
     "metadata": {
      "needs_background": "light"
     },
     "output_type": "display_data"
    }
   ],
   "source": [
    "plt.scatter(x,z)\n",
    "x = np.linspace(0,1,101)\n",
    "h = tp.thamnai(x)\n",
    "plt.plot(x,h,'b')\n",
    "plt.show()"
   ]
  },
  {
   "cell_type": "markdown",
   "metadata": {},
   "source": [
    "เส้นที่ทำนายขึ้น (h) ลากผ่านกลางจุดข้อมูล (z) อย่างสวยงาม แสดงให้เห็นว่าการคำนวณถูกต้อง"
   ]
  },
  {
   "cell_type": "markdown",
   "metadata": {},
   "source": [
    "<b>ตัวอย่าง</b> ปัญหาประกอบด้วย 2 ตัวแปรต้นขึ้นไป ซึ่งจะซับซ้อนไปอีก\n",
    "\n",
    "หากใช้ sklearn เข้าช่วยก็อาจสามารถทำได้ง่ายขึ้น ในมอดูลย่อย preprocessing ของ sklearn มีคลาสที่ชื่อ PolynomialFeatures"
   ]
  },
  {
   "cell_type": "code",
   "execution_count": 35,
   "metadata": {},
   "outputs": [],
   "source": [
    "x = np.random.uniform(0,4,500)\n",
    "y = np.random.uniform(0,4,500)\n",
    "z = 22 + 4*x + 7*y + x*x - 6*x*y + y*y + np.random.randn(500)"
   ]
  },
  {
   "cell_type": "code",
   "execution_count": 38,
   "metadata": {},
   "outputs": [],
   "source": [
    "from sklearn.preprocessing import PolynomialFeatures as Pf\n",
    "\n",
    "xy = np.stack([x,y],1)\n",
    "xy_ = Pf(deg).fit_transform(xy)"
   ]
  },
  {
   "cell_type": "markdown",
   "metadata": {},
   "source": [
    "เมื่อใช้ PolynomialFeatures แบบนี้แล้วจะใช้กับปัญหาที่มีตัวแปรต้นกี่ตัวก็ได้ เช่นถ้าลองใช้กับ 3 ตัวแปรดู แจกแจงถึงดีกรี 2"
   ]
  },
  {
   "cell_type": "code",
   "execution_count": 41,
   "metadata": {},
   "outputs": [
    {
     "name": "stdout",
     "output_type": "stream",
     "text": [
      "[[ 1.    0.    0.    0.    0.    0.    0.    0.    0.    0.  ]\n",
      " [ 1.    1.    1.5   2.5   1.    1.5   2.5   2.25  3.75  6.25]\n",
      " [ 1.    2.    3.    5.    4.    6.   10.    9.   15.   25.  ]]\n"
     ]
    }
   ],
   "source": [
    "x1 = np.linspace(0,2,3)\n",
    "x2 = np.linspace(0,3,3)\n",
    "x3 = np.linspace(0,5,3)\n",
    "print(Pf(2).fit_transform(np.stack([x1,x2,x3],1)))"
   ]
  },
  {
   "cell_type": "code",
   "execution_count": null,
   "metadata": {},
   "outputs": [],
   "source": []
  }
 ],
 "metadata": {
  "kernelspec": {
   "display_name": "Python 3",
   "language": "python",
   "name": "python3"
  },
  "language_info": {
   "codemirror_mode": {
    "name": "ipython",
    "version": 3
   },
   "file_extension": ".py",
   "mimetype": "text/x-python",
   "name": "python",
   "nbconvert_exporter": "python",
   "pygments_lexer": "ipython3",
   "version": "3.6.9"
  }
 },
 "nbformat": 4,
 "nbformat_minor": 2
}
