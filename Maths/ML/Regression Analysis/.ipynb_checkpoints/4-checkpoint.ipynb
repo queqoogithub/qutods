{
 "cells": [
  {
   "cell_type": "markdown",
   "metadata": {},
   "source": [
    "# วิเคราะห์การถดถอยโดยใช้ฟังก์ชันฐาน"
   ]
  },
  {
   "cell_type": "markdown",
   "metadata": {},
   "source": [
    "สรุปขั้นตอนสำหรับการหาค่า z ใหม่ที่ไม่รู้คือ\n",
    "1. คำนวณ Φ ของข้อมูล x ที่มี\n",
    "2. ใช้ np.linalg.solve แก้หาค่า w\n",
    "3. คำนวณ Φ ของข้อมูล x ใหม่ที่ต้องการหา\n",
    "4. คำนวณ z จาก Φ ใหม่และ w"
   ]
  },
  {
   "cell_type": "code",
   "execution_count": 15,
   "metadata": {},
   "outputs": [],
   "source": [
    "from IPython.display import Math"
   ]
  },
  {
   "cell_type": "code",
   "execution_count": 31,
   "metadata": {},
   "outputs": [
    {
     "data": {
      "text/latex": [
       "$\\displaystyle  \\Phi = \\begin{bmatrix} \\phi_1(x_1) & \\phi_2(x_1) & ... &\\phi_m(x_1) \\\\ \\phi_1(x_2) & \\phi_2(x_2) & ... &\\phi_m(x_2) \\\\ \\vdots & \\vdots & \\ddots & \\vdots \\\\ \\\\ \\phi_1(x_n) & \\phi_2(x_n) & ... &\\phi_m(x_n) \\end{bmatrix} $"
      ],
      "text/plain": [
       "<IPython.core.display.Math object>"
      ]
     },
     "execution_count": 31,
     "metadata": {},
     "output_type": "execute_result"
    }
   ],
   "source": [
    "Math(r' \\Phi = \\begin{bmatrix} \\phi_1(x_1) & \\phi_2(x_1) & ... &\\phi_m(x_1) \\\\ \\phi_1(x_2) & \\phi_2(x_2) & ... &\\phi_m(x_2) \\\\ \\vdots & \\vdots & \\ddots & \\vdots \\\\ \\\\ \\phi_1(x_n) & \\phi_2(x_n) & ... &\\phi_m(x_n) \\end{bmatrix} ')"
   ]
  },
  {
   "cell_type": "code",
   "execution_count": 21,
   "metadata": {},
   "outputs": [
    {
     "data": {
      "text/latex": [
       "$\\displaystyle (\\Phi^T \\Phi) \\vec{w} = \\Phi^T \\vec{z} $"
      ],
      "text/plain": [
       "<IPython.core.display.Math object>"
      ]
     },
     "execution_count": 21,
     "metadata": {},
     "output_type": "execute_result"
    }
   ],
   "source": [
    "Math(r'(\\Phi^T \\Phi) \\vec{w} = \\Phi^T \\vec{z} ')"
   ]
  },
  {
   "cell_type": "code",
   "execution_count": 1,
   "metadata": {},
   "outputs": [],
   "source": [
    "import numpy as np\n",
    "import matplotlib.pyplot as plt"
   ]
  },
  {
   "cell_type": "code",
   "execution_count": 2,
   "metadata": {},
   "outputs": [
    {
     "data": {
      "image/png": "[encoded data removed]",
      "text/plain": [
       "<Figure size 432x288 with 1 Axes>"
      ]
     },
     "metadata": {
      "needs_background": "light"
     },
     "output_type": "display_data"
    }
   ],
   "source": [
    "class ThotthoiPhahunam:\n",
    "    def __init__(self,m=4):\n",
    "        self.m = m\n",
    "\n",
    "    def rianru(self,x,z):\n",
    "        phi = self.than(x)\n",
    "        self.w = np.linalg.solve(phi.T.dot(phi),phi.T.dot(z))\n",
    "\n",
    "    def thamnai(self,x_):\n",
    "        phi_ = self.than(x_)\n",
    "        return phi_.dot(self.w)\n",
    "\n",
    "    def than(self,x):\n",
    "        return x[:,None]**np.arange(self.m)\n",
    "\n",
    "np.random.seed(0)\n",
    "n = 50\n",
    "x = np.random.uniform(0,20,n)\n",
    "z = ((x-1)**2*(x-10)*(x-18)**2)*np.random.normal(1,0.1,n)/1000\n",
    "\n",
    "tt = ThotthoiPhahunam(m=8)\n",
    "tt.rianru(x,z) # 1. คำนวณ Φ ของข้อมูล x ที่มี  2. ใช้ np.linalg.solve แก้หาค่า w\n",
    "x_ = np.linspace(x.min(),x.max(),201)\n",
    "z_ = tt.thamnai(x_) # 3. คำนวณ Φ ของข้อมูล x ใหม่ที่ต้องการหา  4. คำนวณ z จาก Φ ใหม่และ w\n",
    "\n",
    "plt.gca(xlabel='x',ylabel='z')\n",
    "plt.scatter(x,z,c='m',edgecolor='b')\n",
    "plt.plot(x_,z_,'r')\n",
    "plt.show()"
   ]
  },
  {
   "cell_type": "code",
   "execution_count": 5,
   "metadata": {},
   "outputs": [],
   "source": [
    "x=np.random.uniform(0,20,10)"
   ]
  },
  {
   "cell_type": "code",
   "execution_count": 6,
   "metadata": {},
   "outputs": [
    {
     "data": {
      "text/plain": [
       "array([[1.00000000e+00, 6.90703361e+00, 4.77071133e+01, 3.29514635e+02],\n",
       "       [1.00000000e+00, 1.85616259e+01, 3.44533955e+02, 6.39511037e+03],\n",
       "       [1.00000000e+00, 1.40882880e+01, 1.98479860e+02, 2.79624144e+03],\n",
       "       [1.00000000e+00, 6.36778591e-01, 4.05486973e-01, 2.58205423e-01],\n",
       "       [1.00000000e+00, 3.29388313e+00, 1.08496661e+01, 3.57375320e+01],\n",
       "       [1.00000000e+00, 1.24295680e+01, 1.54494161e+02, 1.92029569e+03],\n",
       "       [1.00000000e+00, 1.15445718e+01, 1.33277137e+02, 1.53862748e+03],\n",
       "       [1.00000000e+00, 4.75785643e+00, 2.26371978e+01, 1.07704537e+02],\n",
       "       [1.00000000e+00, 1.86842800e+01, 3.49102318e+02, 6.52272544e+03],\n",
       "       [1.00000000e+00, 1.22793191e+01, 1.50781678e+02, 1.85149634e+03]])"
      ]
     },
     "execution_count": 6,
     "metadata": {},
     "output_type": "execute_result"
    }
   ],
   "source": [
    "x[:,None]**np.arange(4)"
   ]
  },
  {
   "cell_type": "code",
   "execution_count": 7,
   "metadata": {},
   "outputs": [
    {
     "data": {
      "text/plain": [
       "array([ 6.90703361, 18.56162587, 14.08828804,  0.63677859,  3.29388313,\n",
       "       12.42956803, 11.54457177,  4.75785643, 18.68427996, 12.27931912])"
      ]
     },
     "execution_count": 7,
     "metadata": {},
     "output_type": "execute_result"
    }
   ],
   "source": [
    "x"
   ]
  },
  {
   "cell_type": "code",
   "execution_count": 8,
   "metadata": {},
   "outputs": [
    {
     "data": {
      "text/plain": [
       "array([[ 6.90703361],\n",
       "       [18.56162587],\n",
       "       [14.08828804],\n",
       "       [ 0.63677859],\n",
       "       [ 3.29388313],\n",
       "       [12.42956803],\n",
       "       [11.54457177],\n",
       "       [ 4.75785643],\n",
       "       [18.68427996],\n",
       "       [12.27931912]])"
      ]
     },
     "execution_count": 8,
     "metadata": {},
     "output_type": "execute_result"
    }
   ],
   "source": [
    "x[:,None]"
   ]
  },
  {
   "cell_type": "code",
   "execution_count": 10,
   "metadata": {},
   "outputs": [
    {
     "data": {
      "text/plain": [
       "array([1.05232767, 0.98284537, 1.07717906, 1.08235042, 1.21632359,\n",
       "       1.13365279, 0.96308182, 0.97606208, 1.10996596, 1.06552637])"
      ]
     },
     "execution_count": 10,
     "metadata": {},
     "output_type": "execute_result"
    }
   ],
   "source": [
    "np.random.normal(1,0.1,10)"
   ]
  },
  {
   "cell_type": "code",
   "execution_count": 12,
   "metadata": {},
   "outputs": [
    {
     "data": {
      "text/plain": [
       "array([ 0.63677859,  1.53915366,  2.44152873,  3.3439038 ,  4.24627886,\n",
       "        5.14865393,  6.051029  ,  6.95340407,  7.85577914,  8.75815421,\n",
       "        9.66052927, 10.56290434, 11.46527941, 12.36765448, 13.27002955,\n",
       "       14.17240462, 15.07477968, 15.97715475, 16.87952982, 17.78190489,\n",
       "       18.68427996])"
      ]
     },
     "execution_count": 12,
     "metadata": {},
     "output_type": "execute_result"
    }
   ],
   "source": [
    "np.linspace(x.min(),x.max(),21)"
   ]
  },
  {
   "cell_type": "code",
   "execution_count": 13,
   "metadata": {},
   "outputs": [
    {
     "data": {
      "text/plain": [
       "array([-3.02717461e+00,  6.62608834e+00, -4.19221344e+00,  6.31500974e-01,\n",
       "       -2.69042646e-02, -5.37696773e-04,  5.49665592e-05, -7.68224049e-07])"
      ]
     },
     "execution_count": 13,
     "metadata": {},
     "output_type": "execute_result"
    }
   ],
   "source": [
    "tt.w"
   ]
  },
  {
   "cell_type": "code",
   "execution_count": null,
   "metadata": {},
   "outputs": [],
   "source": []
  }
 ],
 "metadata": {
  "kernelspec": {
   "display_name": "Python 3",
   "language": "python",
   "name": "python3"
  },
  "language_info": {
   "codemirror_mode": {
    "name": "ipython",
    "version": 3
   },
   "file_extension": ".py",
   "mimetype": "text/x-python",
   "name": "python",
   "nbconvert_exporter": "python",
   "pygments_lexer": "ipython3",
   "version": "3.6.9"
  }
 },
 "nbformat": 4,
 "nbformat_minor": 2
}
