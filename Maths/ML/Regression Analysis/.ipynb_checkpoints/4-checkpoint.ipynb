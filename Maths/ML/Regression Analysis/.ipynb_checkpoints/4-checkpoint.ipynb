{
 "cells": [
  {
   "cell_type": "markdown",
   "metadata": {},
   "source": [
    "# วิเคราะห์การถดถอยโดยใช้ฟังก์ชันฐาน"
   ]
  },
  {
   "cell_type": "markdown",
   "metadata": {},
   "source": [
    "เราสามารถอธิบาย Linear Regression ด้วยสมการเส้นตรง wx+b ง่ายๆได้ แต่ถ้า Regression มันซับซ้อน เราควรใช้ฟังก์ชันอะไรบางอย่างที่ซับซ้อนกว่านั้น ทางหนึ่งที่สามารถทำได้ก็คือ ใช้ฟังก์ชันฐาน (Basis Function)"
   ]
  },
  {
   "cell_type": "markdown",
   "metadata": {},
   "source": [
    "โดย Φi(x) คือฟังก์ชันฐาน คือเป็นกลุ่มฟังก์ชันอะไรสักอย่างของ x ที่ต้องการนำมาใช้อธิบายค่า โดยที่ Φ แต่ละค่านั้นจะมีคุณสมบัติตั้งฉากซึ่งกันและกัน (Orthogonal) คือไม่สามารถเขียนตัวนึงในรูปของตัวอื่นๆบวกกันได้ \n",
    "ส่วน wi เป็นค่าน้ำหนักที่บ่งบอกว่าฟังก์ชันฐานแต่ละตัวมีความสำคัญแค่ไหน\n",
    "\n",
    "m คือจำนวนฟังก์ชันฐานที่ใช้\n",
    "n คือจำนวนชุดข้อมูล"
   ]
  },
  {
   "cell_type": "markdown",
   "metadata": {},
   "source": [
    "สรุปขั้นตอนสำหรับการหาค่า z ใหม่ที่ไม่รู้คือ\n",
    "1. คำนวณ Φ ของข้อมูล x ที่มี\n",
    "2. ใช้ np.linalg.solve แก้หาค่า w\n",
    "3. คำนวณ Φ ของข้อมูล x ใหม่ที่ต้องการหา\n",
    "4. คำนวณ z จาก Φ ใหม่และ w"
   ]
  },
  {
   "cell_type": "code",
   "execution_count": 5,
   "metadata": {},
   "outputs": [],
   "source": [
    "from IPython.display import Math"
   ]
  },
  {
   "cell_type": "code",
   "execution_count": 6,
   "metadata": {},
   "outputs": [
    {
     "data": {
      "text/latex": [
       "$\\displaystyle  \\vec{z} = \\Phi \\vec{w} $"
      ],
      "text/plain": [
       "<IPython.core.display.Math object>"
      ]
     },
     "execution_count": 6,
     "metadata": {},
     "output_type": "execute_result"
    }
   ],
   "source": [
    "Math(r' \\vec{z} = \\Phi \\vec{w} ')"
   ]
  },
  {
   "cell_type": "code",
   "execution_count": 27,
   "metadata": {},
   "outputs": [
    {
     "data": {
      "text/latex": [
       "$\\displaystyle  \\vec{w} = \\begin{bmatrix} w_1 \\\\ w_2 \\\\ \\vdots \\\\ w_m \\end{bmatrix} $"
      ],
      "text/plain": [
       "<IPython.core.display.Math object>"
      ]
     },
     "execution_count": 27,
     "metadata": {},
     "output_type": "execute_result"
    }
   ],
   "source": [
    "Math(r' \\vec{w} = \\begin{bmatrix} w_1 \\\\ w_2 \\\\ \\vdots \\\\ w_m \\end{bmatrix} ')"
   ]
  },
  {
   "cell_type": "code",
   "execution_count": 7,
   "metadata": {},
   "outputs": [
    {
     "data": {
      "text/latex": [
       "$\\displaystyle  \\Phi = \\begin{bmatrix} \\phi_1(x_1) & \\phi_2(x_1) & ... &\\phi_m(x_1) \\\\ \\phi_1(x_2) & \\phi_2(x_2) & ... &\\phi_m(x_2) \\\\ \\vdots & \\vdots & \\ddots & \\vdots \\\\ \\\\ \\phi_1(x_n) & \\phi_2(x_n) & ... &\\phi_m(x_n) \\end{bmatrix} $"
      ],
      "text/plain": [
       "<IPython.core.display.Math object>"
      ]
     },
     "execution_count": 7,
     "metadata": {},
     "output_type": "execute_result"
    }
   ],
   "source": [
    "Math(r' \\Phi = \\begin{bmatrix} \\phi_1(x_1) & \\phi_2(x_1) & ... &\\phi_m(x_1) \\\\ \\phi_1(x_2) & \\phi_2(x_2) & ... &\\phi_m(x_2) \\\\ \\vdots & \\vdots & \\ddots & \\vdots \\\\ \\\\ \\phi_1(x_n) & \\phi_2(x_n) & ... &\\phi_m(x_n) \\end{bmatrix} ')"
   ]
  },
  {
   "cell_type": "markdown",
   "metadata": {},
   "source": [
    "z กับ x จะมีขนาดเท่ากัน (เพื่อ map กันเพราะมันเป็นฟังก์ชัน) --> z_1=(w_m.1)(x_1), z2=(w_m.1)(x_2) --> w_m.1 คือ เมทริกซ์ w ที่มี m แถว 1 หลัก "
   ]
  },
  {
   "cell_type": "code",
   "execution_count": 8,
   "metadata": {},
   "outputs": [
    {
     "data": {
      "text/latex": [
       "$\\displaystyle (\\Phi^T \\Phi) \\vec{w} = \\Phi^T \\vec{z} $"
      ],
      "text/plain": [
       "<IPython.core.display.Math object>"
      ]
     },
     "execution_count": 8,
     "metadata": {},
     "output_type": "execute_result"
    }
   ],
   "source": [
    "Math(r'(\\Phi^T \\Phi) \\vec{w} = \\Phi^T \\vec{z} ')"
   ]
  },
  {
   "cell_type": "markdown",
   "metadata": {},
   "source": [
    "ในที่นี้ใช้ x และ z เป็นตัวแปรของข้อมูลที่มี ส่วน x_ เป็นข้อมูลจุดใหม่ที่ต้องการหา z_ เป็นค่าของจุดใหม่ที่คำนวณได้ ส่วน Φ เขียนแทนด้วย phi"
   ]
  },
  {
   "cell_type": "code",
   "execution_count": 9,
   "metadata": {},
   "outputs": [],
   "source": [
    "import numpy as np\n",
    "import matplotlib.pyplot as plt"
   ]
  },
  {
   "cell_type": "code",
   "execution_count": 10,
   "metadata": {},
   "outputs": [
    {
     "data": {
      "image/png": "[encoded data removed]",
      "text/plain": [
       "<Figure size 432x288 with 1 Axes>"
      ]
     },
     "metadata": {
      "needs_background": "light"
     },
     "output_type": "display_data"
    }
   ],
   "source": [
    "class ThotthoiPhahunam:\n",
    "    def __init__(self,m=4):\n",
    "        self.m = m\n",
    "\n",
    "    def rianru(self,x,z):\n",
    "        phi = self.than(x)\n",
    "        self.w = np.linalg.solve(phi.T.dot(phi),phi.T.dot(z))\n",
    "\n",
    "    def thamnai(self,x_):\n",
    "        phi_ = self.than(x_)\n",
    "        return phi_.dot(self.w)\n",
    "\n",
    "    def than(self,x):\n",
    "        return x[:,None]**np.arange(self.m)\n",
    "\n",
    "np.random.seed(0)\n",
    "n = 50\n",
    "x = np.random.uniform(0,20,n)\n",
    "z = ((x-1)**2*(x-10)*(x-18)**2)*np.random.normal(1,0.1,n)/1000\n",
    "\n",
    "tt = ThotthoiPhahunam(m=8)\n",
    "tt.rianru(x,z) # 1. คำนวณ Φ ของข้อมูล x ที่มี  2. ใช้ np.linalg.solve แก้หาค่า w\n",
    "x_ = np.linspace(x.min(),x.max(),201)\n",
    "z_ = tt.thamnai(x_) # 3. คำนวณ Φ ของข้อมูล x ใหม่ที่ต้องการหา  4. คำนวณ z จาก Φ ใหม่และ w\n",
    "\n",
    "plt.gca(xlabel='x',ylabel='z')\n",
    "plt.scatter(x,z,c='m',edgecolor='b')\n",
    "plt.plot(x_,z_,'r')\n",
    "plt.show()"
   ]
  },
  {
   "cell_type": "code",
   "execution_count": 11,
   "metadata": {},
   "outputs": [],
   "source": [
    "x=np.random.uniform(0,20,10)"
   ]
  },
  {
   "cell_type": "code",
   "execution_count": 12,
   "metadata": {},
   "outputs": [
    {
     "data": {
      "text/plain": [
       "array([[1.00000000e+00, 1.76220639e+01, 3.10537138e+02, 5.47230529e+03],\n",
       "       [1.00000000e+00, 1.16254575e+01, 1.35151261e+02, 1.57119523e+03],\n",
       "       [1.00000000e+00, 1.76347072e+01, 3.10982899e+02, 5.48409239e+03],\n",
       "       [1.00000000e+00, 1.38506318e+01, 1.91840001e+02, 2.65710522e+03],\n",
       "       [1.00000000e+00, 1.45050856e+01, 2.10397508e+02, 3.05183387e+03],\n",
       "       [1.00000000e+00, 1.00264876e+01, 1.00530454e+02, 1.00796736e+03],\n",
       "       [1.00000000e+00, 1.91216727e+01, 3.65638367e+02, 6.99161717e+03],\n",
       "       [1.00000000e+00, 1.28798040e+01, 1.65889351e+02, 2.13662232e+03],\n",
       "       [1.00000000e+00, 8.47710097e+00, 7.18612409e+01, 6.09174995e+02],\n",
       "       [1.00000000e+00, 1.21278643e+01, 1.47085092e+02, 1.78382803e+03]])"
      ]
     },
     "execution_count": 12,
     "metadata": {},
     "output_type": "execute_result"
    }
   ],
   "source": [
    "x[:,None]**np.arange(4)"
   ]
  },
  {
   "cell_type": "code",
   "execution_count": 13,
   "metadata": {},
   "outputs": [
    {
     "data": {
      "text/plain": [
       "array([17.62206394, 11.62545745, 17.63470724, 13.8506318 , 14.5050856 ,\n",
       "       10.02648764, 19.12167269, 12.87980398,  8.47710097, 12.12786428])"
      ]
     },
     "execution_count": 13,
     "metadata": {},
     "output_type": "execute_result"
    }
   ],
   "source": [
    "x"
   ]
  },
  {
   "cell_type": "code",
   "execution_count": 14,
   "metadata": {},
   "outputs": [
    {
     "data": {
      "text/plain": [
       "array([[17.62206394],\n",
       "       [11.62545745],\n",
       "       [17.63470724],\n",
       "       [13.8506318 ],\n",
       "       [14.5050856 ],\n",
       "       [10.02648764],\n",
       "       [19.12167269],\n",
       "       [12.87980398],\n",
       "       [ 8.47710097],\n",
       "       [12.12786428]])"
      ]
     },
     "execution_count": 14,
     "metadata": {},
     "output_type": "execute_result"
    }
   ],
   "source": [
    "x[:,None]"
   ]
  },
  {
   "cell_type": "code",
   "execution_count": 15,
   "metadata": {},
   "outputs": [
    {
     "data": {
      "text/plain": [
       "array([0.8729515 , 1.09693967, 0.88268766, 1.19436212, 0.9586381 ,\n",
       "       0.92525452, 1.1922942 , 1.14805148, 1.1867559 , 1.09060447])"
      ]
     },
     "execution_count": 15,
     "metadata": {},
     "output_type": "execute_result"
    }
   ],
   "source": [
    "np.random.normal(1,0.1,10)"
   ]
  },
  {
   "cell_type": "code",
   "execution_count": 16,
   "metadata": {},
   "outputs": [
    {
     "data": {
      "text/plain": [
       "array([ 8.47710097,  9.00932956,  9.54155814, 10.07378673, 10.60601532,\n",
       "       11.1382439 , 11.67047249, 12.20270107, 12.73492966, 13.26715825,\n",
       "       13.79938683, 14.33161542, 14.86384401, 15.39607259, 15.92830118,\n",
       "       16.46052976, 16.99275835, 17.52498694, 18.05721552, 18.58944411,\n",
       "       19.12167269])"
      ]
     },
     "execution_count": 16,
     "metadata": {},
     "output_type": "execute_result"
    }
   ],
   "source": [
    "np.linspace(x.min(),x.max(),21)"
   ]
  },
  {
   "cell_type": "code",
   "execution_count": 17,
   "metadata": {},
   "outputs": [
    {
     "data": {
      "text/plain": [
       "array([-3.02717466e+00,  6.62608846e+00, -4.19221352e+00,  6.31500995e-01,\n",
       "       -2.69042674e-02, -5.37696576e-04,  5.49665523e-05, -7.68223952e-07])"
      ]
     },
     "execution_count": 17,
     "metadata": {},
     "output_type": "execute_result"
    }
   ],
   "source": [
    "tt.w"
   ]
  },
  {
   "cell_type": "code",
   "execution_count": 21,
   "metadata": {},
   "outputs": [
    {
     "data": {
      "text/plain": [
       "array([  3.97550098,  12.4368781 ,   8.42468424,   4.24157218,\n",
       "        -6.76995409,  11.53647243,  -5.37999988,   0.05884621,\n",
       "         4.57038379, -11.49365764,   5.71340495,   2.57562828,\n",
       "         6.42113119,   0.71340647,  -0.42019416,  -1.23988651,\n",
       "        -0.98713981,   2.85244564,   6.53520756,   0.69023092,\n",
       "         7.49943244,   4.52040805,  -4.08467584,   6.56322843,\n",
       "        -2.91233383,  11.02753331,  -5.1775783 ,   2.2844014 ,\n",
       "         2.38818445,  -8.66419381, -15.60037369,   6.38142139,\n",
       "        -4.74343357,   6.02754238,  -1.0633342 ,   9.11069682,\n",
       "         9.10143776,   9.69088868,   1.91793489,  12.05223543,\n",
       "       -13.16711967,  -5.4755661 ,  12.4796409 ,  -0.12344373,\n",
       "        12.3445897 ,  10.86576183, -10.1232579 ,  -4.8616379 ,\n",
       "       -13.64622644, -13.85338841])"
      ]
     },
     "execution_count": 21,
     "metadata": {},
     "output_type": "execute_result"
    }
   ],
   "source": [
    "z"
   ]
  },
  {
   "cell_type": "code",
   "execution_count": 28,
   "metadata": {},
   "outputs": [
    {
     "data": {
      "text/plain": [
       "array([-1.09617864e+00, -7.69242542e-01, -5.03757755e-01, -2.96677526e-01,\n",
       "       -1.45012474e-01, -4.58309293e-02,  3.74076698e-03,  6.51798225e-03,\n",
       "       -3.47424520e-02, -1.17342460e-01, -2.38642914e-01, -3.96063795e-01,\n",
       "       -5.87084334e-01, -8.09243118e-01, -1.06013818e+00, -1.33742703e+00,\n",
       "       -1.63882675e+00, -1.96211390e+00, -2.30512460e+00, -2.66575441e+00,\n",
       "       -3.04195830e+00, -3.43175053e+00, -3.83320457e+00, -4.24445290e+00,\n",
       "       -4.66368688e+00, -5.08915656e+00, -5.51917047e+00, -5.95209534e+00,\n",
       "       -6.38635591e+00, -6.82043458e+00, -7.25287118e+00, -7.68226256e+00,\n",
       "       -8.10726231e+00, -8.52658039e+00, -8.93898270e+00, -9.34329070e+00,\n",
       "       -9.73838097e+00, -1.01231848e+01, -1.04966876e+01, -1.08579287e+01,\n",
       "       -1.12060004e+01, -1.15400478e+01, -1.18592682e+01, -1.21629104e+01,\n",
       "       -1.24502743e+01, -1.27207100e+01, -1.29736177e+01, -1.32084466e+01,\n",
       "       -1.34246942e+01, -1.36219062e+01, -1.37996754e+01, -1.39576408e+01,\n",
       "       -1.40954874e+01, -1.42129451e+01, -1.43097883e+01, -1.43858347e+01,\n",
       "       -1.44409448e+01, -1.44750211e+01, -1.44880073e+01, -1.44798873e+01,\n",
       "       -1.44506848e+01, -1.44004619e+01, -1.43293188e+01, -1.42373923e+01,\n",
       "       -1.41248558e+01, -1.39919175e+01, -1.38388200e+01, -1.36658394e+01,\n",
       "       -1.34732842e+01, -1.32614944e+01, -1.30308407e+01, -1.27817233e+01,\n",
       "       -1.25145712e+01, -1.22298410e+01, -1.19280161e+01, -1.16096058e+01,\n",
       "       -1.12751437e+01, -1.09251875e+01, -1.05603175e+01, -1.01811356e+01,\n",
       "       -9.78826458e+00, -9.38234658e+00, -8.96404248e+00, -8.53403062e+00,\n",
       "       -8.09300583e+00, -7.64167835e+00, -7.18077272e+00, -6.71102678e+00,\n",
       "       -6.23319053e+00, -5.74802505e+00, -5.25630147e+00, -4.75879978e+00,\n",
       "       -4.25630782e+00, -3.74962015e+00, -3.23953691e+00, -2.72686278e+00,\n",
       "       -2.21240580e+00, -1.69697632e+00, -1.18138584e+00, -6.66445910e-01,\n",
       "       -1.52967018e-01,  3.58242540e-01,  8.66377775e-01,  1.37063813e+00,\n",
       "        1.87022860e+00,  2.36436084e+00,  2.85225433e+00,  3.33313745e+00,\n",
       "        3.80624861e+00,  4.27083739e+00,  4.72616564e+00,  5.17150861e+00,\n",
       "        5.60615606e+00,  6.02941336e+00,  6.44060262e+00,  6.83906378e+00,\n",
       "        7.22415574e+00,  7.59525743e+00,  7.95176894e+00,  8.29311258e+00,\n",
       "        8.61873399e+00,  8.92810323e+00,  9.22071585e+00,  9.49609396e+00,\n",
       "        9.75378732e+00,  9.99337437e+00,  1.02144633e+01,  1.04166933e+01,\n",
       "        1.05997350e+01,  1.07632924e+01,  1.09071031e+01,  1.10309397e+01,\n",
       "        1.11346111e+01,  1.12179626e+01,  1.12808780e+01,  1.13232798e+01,\n",
       "        1.13451305e+01,  1.13464335e+01,  1.13272343e+01,  1.12876209e+01,\n",
       "        1.12277255e+01,  1.11477246e+01,  1.10478406e+01,  1.09283425e+01,\n",
       "        1.07895466e+01,  1.06318177e+01,  1.04555698e+01,  1.02612669e+01,\n",
       "        1.00494240e+01,  9.82060812e+00,  9.57543856e+00,  9.31458826e+00,\n",
       "        9.03878437e+00,  8.74880907e+00,  8.44550034e+00,  8.12975272e+00,\n",
       "        7.80251809e+00,  7.46480635e+00,  7.11768615e+00,  6.76228563e+00,\n",
       "        6.39979303e+00,  6.03145742e+00,  5.65858934e+00,  5.28256139e+00,\n",
       "        4.90480893e+00,  4.52683058e+00,  4.15018889e+00,  3.77651085e+00,\n",
       "        3.40748847e+00,  3.04487930e+00,  2.69050691e+00,  2.34626142e+00,\n",
       "        2.01409995e+00,  1.69604710e+00,  1.39419532e+00,  1.11070540e+00,\n",
       "        8.47806790e-01,  6.07798033e-01,  3.93047064e-01,  2.05991564e-01,\n",
       "        4.91392612e-02, -7.49317845e-02, -1.63572921e-01, -2.14064661e-01,\n",
       "       -2.23616468e-01, -1.89366561e-01, -1.08381745e-01,  2.23427390e-02,\n",
       "        2.05883333e-01,  4.45388264e-01,  7.44077615e-01,  1.10524338e+00,\n",
       "        1.53224947e+00,  2.02853175e+00,  2.59759798e+00,  3.24302775e+00,\n",
       "        3.96847244e+00,  4.77765510e+00,  5.67437031e+00,  6.66248400e+00,\n",
       "        7.74593333e+00])"
      ]
     },
     "execution_count": 28,
     "metadata": {},
     "output_type": "execute_result"
    }
   ],
   "source": [
    "z_"
   ]
  },
  {
   "cell_type": "code",
   "execution_count": null,
   "metadata": {},
   "outputs": [],
   "source": []
  }
 ],
 "metadata": {
  "kernelspec": {
   "display_name": "Python 3",
   "language": "python",
   "name": "python3"
  },
  "language_info": {
   "codemirror_mode": {
    "name": "ipython",
    "version": 3
   },
   "file_extension": ".py",
   "mimetype": "text/x-python",
   "name": "python",
   "nbconvert_exporter": "python",
   "pygments_lexer": "ipython3",
   "version": "3.6.9"
  }
 },
 "nbformat": 4,
 "nbformat_minor": 2
}
